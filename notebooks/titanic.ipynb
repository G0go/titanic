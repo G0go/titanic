{
 "cells": [
  {
   "cell_type": "code",
   "execution_count": 565,
   "metadata": {
    "collapsed": true,
    "pycharm": {
     "is_executing": false
    }
   },
   "outputs": [],
   "source": [
    "import warnings\n",
    "warnings.filterwarnings('ignore')\n",
    "\n",
    "import pandas as pd\n",
    "from sklearn.ensemble import GradientBoostingClassifier\n",
    "from sklearn.metrics import accuracy_score\n",
    "from sklearn.model_selection import train_test_split, RandomizedSearchCV\n",
    "from sklearn.preprocessing import LabelEncoder\n",
    "\n",
    "%matplotlib inline"
   ]
  },
  {
   "cell_type": "code",
   "execution_count": 566,
   "outputs": [],
   "source": [
    "train = pd.read_csv('../data/train.csv')\n",
    "test = pd.read_csv('../data/test.csv')\n",
    "\n",
    "datasets = [train, test]\n"
   ],
   "metadata": {
    "collapsed": false,
    "pycharm": {
     "name": "#%%\n",
     "is_executing": false
    }
   }
  },
  {
   "cell_type": "code",
   "execution_count": 567,
   "outputs": [],
   "source": [
    "label = LabelEncoder()\n",
    "drop_columns = ['Cabin', 'Ticket', 'Name', 'PassengerId']\n",
    "\n",
    "for dataset in datasets:\n",
    "# Completing\n",
    "    dataset['Age'].fillna(dataset['Age'].median(), inplace=True)\n",
    "\n",
    "    dataset['Fare'].fillna(dataset['Fare'].median(), inplace=True)\n",
    "\n",
    "    # DataFrame.mode() -> most frequent value\n",
    "    dataset['Embarked'].fillna(dataset['Embarked'].mode()[0], inplace=True)\n",
    "\n",
    "# Creating\n",
    "    dataset['FamilySize'] = dataset['SibSp'] + dataset['Parch'] + 1\n",
    "    dataset['Alone'] = 1\n",
    "    dataset['Alone'].loc[dataset['FamilySize'] > 1] = 0\n",
    "    dataset['Fare'] = pd.qcut(dataset['Fare'], 4)\n",
    "    dataset['Age'] = pd.cut(dataset['Age'].astype(int), 5)\n",
    "\n",
    "# Convert\n",
    "    dataset['Sex'] = label.fit_transform(dataset['Sex'])\n",
    "    dataset['Embarked'] = label.fit_transform(dataset['Embarked'])\n",
    "    dataset['Age'] = label.fit_transform(dataset['Age'])\n",
    "    dataset['Fare'] = label.fit_transform(dataset['Fare'])\n",
    "\n",
    "datasets = [pd.get_dummies(df, columns=['Sex', 'Embarked']) for df in datasets]\n"
   ],
   "metadata": {
    "collapsed": false,
    "pycharm": {
     "name": "#%%\n",
     "is_executing": false
    }
   }
  },
  {
   "cell_type": "code",
   "execution_count": 568,
   "outputs": [],
   "source": [
    "for dataset in datasets:\n",
    "    dataset.drop(drop_columns, axis=1, inplace=True)\n",
    "train = datasets[0]\n",
    "test = datasets[1]\n",
    "print(train.columns)\n",
    "y = train['Survived']\n",
    "X = train.drop('Survived', axis=1)"
   ],
   "metadata": {
    "collapsed": false,
    "pycharm": {
     "name": "#%%\n",
     "is_executing": false
    }
   }
  },
  {
   "cell_type": "code",
   "execution_count": 570,
   "outputs": [],
   "source": [
    "base_params = {\n",
    "    'learning_rate':0.1,\n",
    "    'n_estimators':100,\n",
    "    'subsample':1,\n",
    "    'criterion': 'friedman_mse',\n",
    "    'min_samples_split':2,\n",
    "    'min_samples_leaf':1,\n",
    "    'min_weight_fraction_leaf': 0,\n",
    "    'max_depth':3,\n",
    "    'min_impurity_decrease': 0,\n",
    "    'min_impurity_split': 1e-7,\n",
    "    'max_features': None,\n",
    "    'max_leaf_nodes': None,\n",
    "    'n_iter_no_change': None,\n",
    "}\n",
    "\n",
    "params = {\n",
    "    'criterion': 'friedman_mse',\n",
    "    'min_weight_fraction_leaf': 0,\n",
    "    'max_leaf_nodes': None,\n",
    "    'n_iter_no_change': None,\n",
    "    'random_state':0,\n",
    "    'subsample': 0.75\n",
    "}\n",
    "\n",
    "params_grid = {\n",
    "    'learning_rate':[0.15,0.1,0.05,0.01,0.005,0.001],\n",
    "    'n_estimators':[100,250,500,750,1000,1250,1500,1750],\n",
    "    'max_depth':[2,3,4,5,6,7],\n",
    "    'min_samples_split':[2,4,6,8,10,20,40,60,100],\n",
    "    'min_samples_leaf':[1,3,5,7,9],\n",
    "    'max_features':[2,3,4,5,6,7],\n",
    "    'subsample':[0.7,0.75,0.8,0.85,0.9,0.95,1]\n",
    "}\n",
    "\n",
    "X_train, X_test, y_train, y_test = train_test_split(X, y, test_size=0.2, random_state=0)\n",
    "\n",
    "nb_iterations = 1000\n",
    "\n",
    "tuning = RandomizedSearchCV(\n",
    "    estimator=GradientBoostingClassifier(**params),\n",
    "    param_distributions=params_grid,\n",
    "    scoring='accuracy',\n",
    "    n_jobs=-1,\n",
    "    n_iter=nb_iterations,\n",
    "    cv=5\n",
    ")\n",
    "\n",
    "tuning.fit(X_train, y_train)\n",
    "print(tuning.cv_results_, tuning.best_params_, tuning.best_score_)\n",
    "\n",
    "model = GradientBoostingClassifier(**tuning.best_params_)\n",
    "model.fit(X_train, y_train)\n",
    "predictors = list(X_train)\n",
    "feat_importance = pd.Series(model.feature_importances_, predictors).sort_values(ascending=False)\n",
    "feat_importance.plot(kind='bar', title='Features importance')\n",
    "\n",
    "preds = model.predict(X_test)\n",
    "print(accuracy_score(preds, y_test))\n",
    "\n",
    "model.fit(X, y)\n",
    "preds = model.predict(test)\n"
   ],
   "metadata": {
    "collapsed": false,
    "pycharm": {
     "name": "#%%\n",
     "is_executing": false
    }
   }
  },
  {
   "cell_type": "code",
   "execution_count": null,
   "outputs": [],
   "source": [
    "\n",
    "submission = pd.read_csv('../data/gender_submission.csv')\n",
    "\n",
    "d = {\n",
    "    'PassengerId': submission['PassengerId'],\n",
    "    'Survived': preds\n",
    "}\n",
    "\n",
    "df = pd.DataFrame(data=d)\n",
    "df.to_csv('../data/results.csv', index=False)\n",
    "\n"
   ],
   "metadata": {
    "collapsed": false,
    "pycharm": {
     "name": "#%%\n",
     "is_executing": false
    }
   }
  }
 ],
 "metadata": {
  "kernelspec": {
   "name": "python3",
   "language": "python",
   "display_name": "Python 3"
  },
  "language_info": {
   "codemirror_mode": {
    "name": "ipython",
    "version": 2
   },
   "file_extension": ".py",
   "mimetype": "text/x-python",
   "name": "python",
   "nbconvert_exporter": "python",
   "pygments_lexer": "ipython2",
   "version": "2.7.6"
  },
  "pycharm": {
   "stem_cell": {
    "cell_type": "raw",
    "source": [],
    "metadata": {
     "collapsed": false
    }
   }
  }
 },
 "nbformat": 4,
 "nbformat_minor": 0
}