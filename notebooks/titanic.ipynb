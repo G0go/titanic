{
 "cells": [
  {
   "cell_type": "code",
   "execution_count": 558,
   "metadata": {
    "collapsed": true,
    "pycharm": {
     "is_executing": false
    }
   },
   "outputs": [],
   "source": [
    "import warnings\n",
    "from sklearn.discriminant_analysis import LinearDiscriminantAnalysis, QuadraticDiscriminantAnalysis\n",
    "from sklearn.gaussian_process import GaussianProcessClassifier\n",
    "from sklearn.linear_model import LogisticRegressionCV, PassiveAggressiveClassifier, RidgeClassifierCV, Perceptron, \\\n",
    "    SGDClassifier\n",
    "from sklearn.naive_bayes import BernoulliNB, GaussianNB\n",
    "from sklearn.neighbors import KNeighborsClassifier\n",
    "from sklearn.svm import SVC, NuSVC, LinearSVC\n",
    "from sklearn.tree import DecisionTreeClassifier, ExtraTreeClassifier\n",
    "from xgboost import XGBClassifier\n",
    "warnings.filterwarnings('ignore')\n",
    "\n",
    "import pandas as pd\n",
    "from sklearn.ensemble import GradientBoostingClassifier, AdaBoostClassifier, BaggingClassifier, ExtraTreesClassifier, \\\n",
    "    RandomForestClassifier\n",
    "from sklearn.metrics import accuracy_score\n",
    "from sklearn.model_selection import ShuffleSplit, cross_validate, cross_val_score, train_test_split, GridSearchCV, \\\n",
    "    RandomizedSearchCV\n",
    "from sklearn.preprocessing import LabelEncoder\n",
    "\n",
    "%matplotlib inline\n",
    "import numpy as np\n",
    "# np.random.seed(42)"
   ]
  },
  {
   "cell_type": "code",
   "execution_count": 559,
   "outputs": [],
   "source": [
    "train = pd.read_csv('../data/train.csv')\n",
    "test = pd.read_csv('../data/test.csv')\n",
    "\n",
    "datasets = [train, test]\n"
   ],
   "metadata": {
    "collapsed": false,
    "pycharm": {
     "name": "#%%\n",
     "is_executing": false
    }
   }
  },
  {
   "cell_type": "code",
   "execution_count": 560,
   "outputs": [],
   "source": [
    "label = LabelEncoder()\n",
    "drop_columns = ['Cabin', 'Ticket', 'Name', 'PassengerId']\n",
    "\n",
    "for dataset in datasets:\n",
    "# Completing\n",
    "    dataset['Age'].fillna(dataset['Age'].median(), inplace=True)\n",
    "\n",
    "    dataset['Fare'].fillna(dataset['Fare'].median(), inplace=True)\n",
    "\n",
    "    # DataFrame.mode() -> most frequent value\n",
    "    dataset['Embarked'].fillna(dataset['Embarked'].mode()[0], inplace=True)\n",
    "\n",
    "# Creating\n",
    "    dataset['FamilySize'] = dataset['SibSp'] + dataset['Parch'] + 1\n",
    "    dataset['Alone'] = 1\n",
    "    dataset['Alone'].loc[dataset['FamilySize'] > 1] = 0\n",
    "    dataset['Fare'] = pd.qcut(dataset['Fare'], 4)\n",
    "    dataset['Age'] = pd.cut(dataset['Age'].astype(int), 5)\n",
    "\n",
    "# Convert\n",
    "    dataset['Sex'] = label.fit_transform(dataset['Sex'])\n",
    "    dataset['Embarked'] = label.fit_transform(dataset['Embarked'])\n",
    "    dataset['Age'] = label.fit_transform(dataset['Age'])\n",
    "    dataset['Fare'] = label.fit_transform(dataset['Fare'])\n",
    "\n",
    "# datasets = [pd.get_dummies(df, columns=['Sex', 'Embarked']) for df in datasets]\n"
   ],
   "metadata": {
    "collapsed": false,
    "pycharm": {
     "name": "#%%\n",
     "is_executing": false
    }
   }
  },
  {
   "cell_type": "code",
   "execution_count": 561,
   "outputs": [
    {
     "name": "stdout",
     "text": [
      "Index(['Survived', 'Pclass', 'Sex', 'Age', 'SibSp', 'Parch', 'Fare',\n       'Embarked', 'FamilySize', 'Alone'],\n      dtype='object')\n"
     ],
     "output_type": "stream"
    }
   ],
   "source": [
    "for dataset in datasets:\n",
    "    dataset.drop(drop_columns, axis=1, inplace=True)\n",
    "train = datasets[0]\n",
    "test = datasets[1]\n",
    "print(train.columns)\n",
    "y = train['Survived']\n",
    "X = train.drop('Survived', axis=1)\n"
   ],
   "metadata": {
    "collapsed": false,
    "pycharm": {
     "name": "#%%\n",
     "is_executing": false
    }
   }
  },
  {
   "cell_type": "code",
   "execution_count": 562,
   "outputs": [],
   "source": [
    "algos = [\n",
    "    AdaBoostClassifier(),\n",
    "    BaggingClassifier(),\n",
    "    ExtraTreesClassifier(),\n",
    "    GradientBoostingClassifier(),\n",
    "    RandomForestClassifier(),\n",
    "    GaussianProcessClassifier(),\n",
    "    LogisticRegressionCV(),\n",
    "    PassiveAggressiveClassifier(),\n",
    "    RidgeClassifierCV(),\n",
    "    SGDClassifier(),\n",
    "    Perceptron(),\n",
    "    BernoulliNB(),\n",
    "    GaussianNB(),\n",
    "    KNeighborsClassifier(),\n",
    "    SVC(probability=True),\n",
    "    NuSVC(probability=True),\n",
    "    LinearSVC(),\n",
    "    DecisionTreeClassifier(),\n",
    "    ExtraTreeClassifier(),\n",
    "    LinearDiscriminantAnalysis(),\n",
    "    QuadraticDiscriminantAnalysis(),\n",
    "    XGBClassifier()\n",
    "]\n",
    "\n",
    "\n"
   ],
   "metadata": {
    "collapsed": false,
    "pycharm": {
     "name": "#%%\n",
     "is_executing": false
    }
   }
  },
  {
   "cell_type": "code",
   "execution_count": 563,
   "outputs": [
    {
     "name": "stdout",
     "text": [
      "{'mean_fit_time': array([0.86109858, 0.10332394, 0.7035192 , 1.1545136 , 3.35365057,\n       1.90193043, 0.23118935, 1.43577991, 1.694874  , 1.31550803]), 'std_fit_time': array([0.02369048, 0.00312857, 0.01138279, 0.0407357 , 0.11673543,\n       0.03843013, 0.00609333, 0.02128404, 0.05415416, 0.12024993]), 'mean_score_time': array([0.00578504, 0.00219493, 0.00398903, 0.00618429, 0.01276579,\n       0.00977402, 0.00279527, 0.0083776 , 0.01037188, 0.00818548]), 'std_score_time': array([3.98063660e-04, 3.99923595e-04, 7.59953377e-07, 1.46559680e-03,\n       3.98945848e-04, 3.99017391e-04, 3.93057462e-04, 4.88869664e-04,\n       1.19659908e-03, 1.60489847e-03]), 'param_subsample': masked_array(data=[0.75, 0.8, 0.85, 0.95, 0.85, 0.95, 1, 0.7, 0.7, 0.8],\n             mask=[False, False, False, False, False, False, False, False,\n                   False, False],\n       fill_value='?',\n            dtype=object), 'param_n_estimators': masked_array(data=[1000, 100, 750, 1750, 1250, 1750, 500, 1500, 1500,\n                   1000],\n             mask=[False, False, False, False, False, False, False, False,\n                   False, False],\n       fill_value='?',\n            dtype=object), 'param_min_samples_split': masked_array(data=[60, 60, 40, 4, 10, 40, 10, 4, 20, 4],\n             mask=[False, False, False, False, False, False, False, False,\n                   False, False],\n       fill_value='?',\n            dtype=object), 'param_min_samples_leaf': masked_array(data=[9, 9, 1, 7, 1, 5, 5, 7, 3, 7],\n             mask=[False, False, False, False, False, False, False, False,\n                   False, False],\n       fill_value='?',\n            dtype=object), 'param_max_features': masked_array(data=[3, 6, 7, 5, 6, 7, 2, 2, 7, 3],\n             mask=[False, False, False, False, False, False, False, False,\n                   False, False],\n       fill_value='?',\n            dtype=object), 'param_max_depth': masked_array(data=[4, 3, 3, 2, 7, 4, 2, 4, 4, 5],\n             mask=[False, False, False, False, False, False, False, False,\n                   False, False],\n       fill_value='?',\n            dtype=object), 'param_learning_rate': masked_array(data=[0.1, 0.01, 0.001, 0.01, 0.001, 0.15, 0.15, 0.001, 0.01,\n                   0.01],\n             mask=[False, False, False, False, False, False, False, False,\n                   False, False],\n       fill_value='?',\n            dtype=object), 'params': [{'subsample': 0.75, 'n_estimators': 1000, 'min_samples_split': 60, 'min_samples_leaf': 9, 'max_features': 3, 'max_depth': 4, 'learning_rate': 0.1}, {'subsample': 0.8, 'n_estimators': 100, 'min_samples_split': 60, 'min_samples_leaf': 9, 'max_features': 6, 'max_depth': 3, 'learning_rate': 0.01}, {'subsample': 0.85, 'n_estimators': 750, 'min_samples_split': 40, 'min_samples_leaf': 1, 'max_features': 7, 'max_depth': 3, 'learning_rate': 0.001}, {'subsample': 0.95, 'n_estimators': 1750, 'min_samples_split': 4, 'min_samples_leaf': 7, 'max_features': 5, 'max_depth': 2, 'learning_rate': 0.01}, {'subsample': 0.85, 'n_estimators': 1250, 'min_samples_split': 10, 'min_samples_leaf': 1, 'max_features': 6, 'max_depth': 7, 'learning_rate': 0.001}, {'subsample': 0.95, 'n_estimators': 1750, 'min_samples_split': 40, 'min_samples_leaf': 5, 'max_features': 7, 'max_depth': 4, 'learning_rate': 0.15}, {'subsample': 1, 'n_estimators': 500, 'min_samples_split': 10, 'min_samples_leaf': 5, 'max_features': 2, 'max_depth': 2, 'learning_rate': 0.15}, {'subsample': 0.7, 'n_estimators': 1500, 'min_samples_split': 4, 'min_samples_leaf': 7, 'max_features': 2, 'max_depth': 4, 'learning_rate': 0.001}, {'subsample': 0.7, 'n_estimators': 1500, 'min_samples_split': 20, 'min_samples_leaf': 3, 'max_features': 7, 'max_depth': 4, 'learning_rate': 0.01}, {'subsample': 0.8, 'n_estimators': 1000, 'min_samples_split': 4, 'min_samples_leaf': 7, 'max_features': 3, 'max_depth': 5, 'learning_rate': 0.01}], 'split0_test_score': array([0.78321678, 0.78321678, 0.78321678, 0.78321678, 0.81818182,\n       0.78321678, 0.78321678, 0.8041958 , 0.79020979, 0.79020979]), 'split1_test_score': array([0.84615385, 0.86013986, 0.84615385, 0.85314685, 0.87412587,\n       0.7972028 , 0.86013986, 0.86713287, 0.86013986, 0.87412587]), 'split2_test_score': array([0.8041958 , 0.76923077, 0.78321678, 0.7972028 , 0.7972028 ,\n       0.77622378, 0.81118881, 0.8041958 , 0.81818182, 0.81118881]), 'split3_test_score': array([0.80985915, 0.76760563, 0.76760563, 0.8028169 , 0.78873239,\n       0.76760563, 0.79577465, 0.78873239, 0.8028169 , 0.8028169 ]), 'split4_test_score': array([0.73758865, 0.79432624, 0.79432624, 0.78014184, 0.79432624,\n       0.78014184, 0.78723404, 0.83687943, 0.77304965, 0.77304965]), 'mean_test_score': array([0.79634831, 0.79494382, 0.79494382, 0.80337079, 0.81460674,\n       0.78089888, 0.80758427, 0.82022472, 0.80898876, 0.81039326]), 'std_test_score': array([0.03557199, 0.03410612, 0.02703841, 0.02633925, 0.0314621 ,\n       0.00970632, 0.02804349, 0.0282464 , 0.02960868, 0.03442894]), 'rank_test_score': array([ 7,  8,  8,  6,  2, 10,  5,  1,  4,  3])} {'subsample': 0.7, 'n_estimators': 1500, 'min_samples_split': 4, 'min_samples_leaf': 7, 'max_features': 2, 'max_depth': 4, 'learning_rate': 0.001} 0.8202247191011236\n",
      "0.8268156424581006\n"
     ],
     "output_type": "stream"
    },
    {
     "data": {
      "text/plain": "<Figure size 432x288 with 1 Axes>",
      "image/png": "[encoded data removed]"
     },
     "metadata": {
      "needs_background": "light"
     },
     "output_type": "display_data"
    }
   ],
   "source": [
    "base_params = {\n",
    "    'learning_rate':0.1,\n",
    "    'n_estimators':100,\n",
    "    'subsample':1,\n",
    "    'criterion': 'friedman_mse',\n",
    "    'min_samples_split':2,\n",
    "    'min_samples_leaf':1,\n",
    "    'min_weight_fraction_leaf': 0,\n",
    "    'max_depth':3,\n",
    "    'min_impurity_decrease': 0,\n",
    "    'min_impurity_split': 1e-7,\n",
    "    'max_features': None,\n",
    "    'max_leaf_nodes': None,\n",
    "    'n_iter_no_change': None,\n",
    "}\n",
    "\n",
    "params = {\n",
    "    'criterion': 'friedman_mse',\n",
    "    'min_weight_fraction_leaf': 0,\n",
    "    'max_leaf_nodes': None,\n",
    "    'n_iter_no_change': None,\n",
    "    'random_state':0,\n",
    "    'subsample': 0.75\n",
    "}\n",
    "\n",
    "params_grid = {\n",
    "    'learning_rate':[0.15,0.1,0.05,0.01,0.005,0.001],\n",
    "    'n_estimators':[100,250,500,750,1000,1250,1500,1750],\n",
    "    'max_depth':[2,3,4,5,6,7],\n",
    "    'min_samples_split':[2,4,6,8,10,20,40,60,100],\n",
    "    'min_samples_leaf':[1,3,5,7,9],\n",
    "    'max_features':[2,3,4,5,6,7],\n",
    "    'subsample':[0.7,0.75,0.8,0.85,0.9,0.95,1]\n",
    "}\n",
    "\n",
    "X_train, X_test, y_train, y_test = train_test_split(X, y, test_size=0.2, random_state=0)\n",
    "\n",
    "nb_iterations = 1000\n",
    "\n",
    "tuning = RandomizedSearchCV(\n",
    "    estimator=GradientBoostingClassifier(**params),\n",
    "    param_distributions=params_grid,\n",
    "    scoring='accuracy',\n",
    "    n_jobs=-1,\n",
    "    n_iter=nb_iterations,\n",
    "    cv=5\n",
    ")\n",
    "\n",
    "tuning.fit(X_train, y_train)\n",
    "print(tuning.cv_results_, tuning.best_params_, tuning.best_score_)\n",
    "\n",
    "model = GradientBoostingClassifier(**tuning.best_params_)\n",
    "model.fit(X_train, y_train)\n",
    "predictors = list(X_train)\n",
    "feat_importance = pd.Series(model.feature_importances_, predictors).sort_values(ascending=False)\n",
    "feat_importance.plot(kind='bar', title='Features importance')\n",
    "\n",
    "preds = model.predict(X_test)\n",
    "print(accuracy_score(preds, y_test))\n",
    "\n",
    "model.fit(X, y)\n",
    "preds = model.predict(test)\n"
   ],
   "metadata": {
    "collapsed": false,
    "pycharm": {
     "name": "#%%\n",
     "is_executing": false
    }
   }
  },
  {
   "cell_type": "code",
   "execution_count": 564,
   "outputs": [],
   "source": [
    "\n",
    "submission = pd.read_csv('../data/gender_submission.csv')\n",
    "\n",
    "d = {\n",
    "    'PassengerId': submission['PassengerId'],\n",
    "    'Survived': preds\n",
    "}\n",
    "\n",
    "df = pd.DataFrame(data=d)\n",
    "df.to_csv('../data/results.csv', index=False)\n",
    "\n"
   ],
   "metadata": {
    "collapsed": false,
    "pycharm": {
     "name": "#%%\n",
     "is_executing": false
    }
   }
  }
 ],
 "metadata": {
  "kernelspec": {
   "name": "python3",
   "language": "python",
   "display_name": "Python 3"
  },
  "language_info": {
   "codemirror_mode": {
    "name": "ipython",
    "version": 2
   },
   "file_extension": ".py",
   "mimetype": "text/x-python",
   "name": "python",
   "nbconvert_exporter": "python",
   "pygments_lexer": "ipython2",
   "version": "2.7.6"
  },
  "pycharm": {
   "stem_cell": {
    "cell_type": "raw",
    "source": [],
    "metadata": {
     "collapsed": false
    }
   }
  }
 },
 "nbformat": 4,
 "nbformat_minor": 0
}